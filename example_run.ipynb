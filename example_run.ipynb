{
 "cells": [
  {
   "cell_type": "code",
   "execution_count": 6,
   "metadata": {
    "collapsed": true
   },
   "outputs": [],
   "source": [
    "import os,sys\n",
    "os.getcwd()\n",
    "import numpy as np\n",
    "from scipy.interpolate import interp1d,splrep,splev\n",
    "from scipy.integrate import quad, odeint\n",
    "from matplotlib import pyplot as plt\n",
    "from Thermal_Boltzmann_Solver import Boltzmann_solver\n",
    "from Thermal_Monte_Carlo import I4"
   ]
  },
  {
   "cell_type": "code",
   "execution_count": 38,
   "metadata": {},
   "outputs": [
    {
     "name": "stdout",
     "output_type": "stream",
     "text": [
      "\r m1= 5000.0 i= 0 / 40,"
     ]
    },
    {
     "name": "stdout",
     "output_type": "stream",
     "text": [
      "\r m1= 5000.0 i= 1 / 40,"
     ]
    },
    {
     "name": "stdout",
     "output_type": "stream",
     "text": [
      "\r m1= 5000.0 i= 2 / 40,"
     ]
    },
    {
     "name": "stdout",
     "output_type": "stream",
     "text": [
      "\r m1= 5000.0 i= 3 / 40,"
     ]
    },
    {
     "name": "stdout",
     "output_type": "stream",
     "text": [
      "\r m1= 5000.0 i= 4 / 40,"
     ]
    },
    {
     "name": "stdout",
     "output_type": "stream",
     "text": [
      "\r m1= 5000.0 i= 5 / 40,"
     ]
    },
    {
     "name": "stdout",
     "output_type": "stream",
     "text": [
      "\r m1= 5000.0 i= 6 / 40,"
     ]
    },
    {
     "name": "stdout",
     "output_type": "stream",
     "text": [
      "\r m1= 5000.0 i= 7 / 40,"
     ]
    },
    {
     "name": "stdout",
     "output_type": "stream",
     "text": [
      "\r m1= 5000.0 i= 8 / 40,"
     ]
    },
    {
     "name": "stdout",
     "output_type": "stream",
     "text": [
      "\r m1= 5000.0 i= 9 / 40,"
     ]
    },
    {
     "name": "stdout",
     "output_type": "stream",
     "text": [
      "\r m1= 5000.0 i= 10 / 40,"
     ]
    },
    {
     "name": "stdout",
     "output_type": "stream",
     "text": [
      "\r m1= 5000.0 i= 11 / 40,"
     ]
    },
    {
     "name": "stdout",
     "output_type": "stream",
     "text": [
      "\r m1= 5000.0 i= 12 / 40,"
     ]
    },
    {
     "name": "stdout",
     "output_type": "stream",
     "text": [
      "\r m1= 5000.0 i= 13 / 40,"
     ]
    },
    {
     "name": "stdout",
     "output_type": "stream",
     "text": [
      "\r m1= 5000.0 i= 14 / 40,"
     ]
    },
    {
     "name": "stdout",
     "output_type": "stream",
     "text": [
      "\r m1= 5000.0 i= 15 / 40,"
     ]
    },
    {
     "name": "stdout",
     "output_type": "stream",
     "text": [
      "\r m1= 5000.0 i= 16 / 40,"
     ]
    },
    {
     "name": "stdout",
     "output_type": "stream",
     "text": [
      "\r m1= 5000.0 i= 17 / 40,"
     ]
    },
    {
     "name": "stdout",
     "output_type": "stream",
     "text": [
      "\r m1= 5000.0 i= 18 / 40,"
     ]
    },
    {
     "name": "stdout",
     "output_type": "stream",
     "text": [
      "\r m1= 5000.0 i= 19 / 40,"
     ]
    },
    {
     "name": "stdout",
     "output_type": "stream",
     "text": [
      "\r m1= 5000.0 i= 20 / 40,"
     ]
    },
    {
     "name": "stdout",
     "output_type": "stream",
     "text": [
      "\r m1= 5000.0 i= 21 / 40,"
     ]
    },
    {
     "name": "stdout",
     "output_type": "stream",
     "text": [
      "\r m1= 5000.0 i= 22 / 40,"
     ]
    },
    {
     "name": "stdout",
     "output_type": "stream",
     "text": [
      "\r m1= 5000.0 i= 23 / 40,"
     ]
    },
    {
     "name": "stdout",
     "output_type": "stream",
     "text": [
      "\r m1= 5000.0 i= 24 / 40,"
     ]
    },
    {
     "name": "stdout",
     "output_type": "stream",
     "text": [
      "\r m1= 5000.0 i= 25 / 40,"
     ]
    },
    {
     "name": "stdout",
     "output_type": "stream",
     "text": [
      "\r m1= 5000.0 i= 26 / 40,"
     ]
    },
    {
     "name": "stdout",
     "output_type": "stream",
     "text": [
      "\r m1= 5000.0 i= 27 / 40,"
     ]
    },
    {
     "name": "stdout",
     "output_type": "stream",
     "text": [
      "\r m1= 5000.0 i= 28 / 40,"
     ]
    },
    {
     "name": "stdout",
     "output_type": "stream",
     "text": [
      "\r m1= 5000.0 i= 29 / 40,"
     ]
    },
    {
     "name": "stdout",
     "output_type": "stream",
     "text": [
      "\r m1= 5000.0 i= 30 / 40,"
     ]
    },
    {
     "name": "stdout",
     "output_type": "stream",
     "text": [
      "\r m1= 5000.0 i= 31 / 40,"
     ]
    },
    {
     "name": "stdout",
     "output_type": "stream",
     "text": [
      "\r m1= 5000.0 i= 32 / 40,"
     ]
    },
    {
     "name": "stdout",
     "output_type": "stream",
     "text": [
      "\r m1= 5000.0 i= 33 / 40,"
     ]
    },
    {
     "name": "stdout",
     "output_type": "stream",
     "text": [
      "\r m1= 5000.0 i= 34 / 40,"
     ]
    },
    {
     "name": "stdout",
     "output_type": "stream",
     "text": [
      "\r m1= 5000.0 i= 35 / 40,"
     ]
    },
    {
     "name": "stdout",
     "output_type": "stream",
     "text": [
      "\r m1= 5000.0 i= 36 / 40,"
     ]
    },
    {
     "name": "stdout",
     "output_type": "stream",
     "text": [
      "\r m1= 5000.0 i= 37 / 40,"
     ]
    },
    {
     "name": "stdout",
     "output_type": "stream",
     "text": [
      "\r m1= 5000.0 i= 38 / 40,"
     ]
    },
    {
     "name": "stdout",
     "output_type": "stream",
     "text": [
      "\r m1= 5000.0 i= 39 / 40,"
     ]
    }
   ],
   "source": [
    "#Run the TMC code to get enough sample for collision terms. See page for Thermal_Monte_Carlo for details.\n",
    "mX = 1e4\n",
    "m1=mX /2\n",
    "m1,m2,m3,m4=m1,m1,0.0,0.0\n",
    "MeV=1.0;\n",
    "GeV=1e3*MeV;\n",
    "TeV=1e3*GeV\n",
    "def F_III_2(E1,E2,E3,dot12,dot13,dot23):\n",
    "    global T1,m1,mX\n",
    "    mB=mX\n",
    "    mF=m1\n",
    "    f1=1/(np.exp(E1/T1)+1) #FD statistics\n",
    "    f2=1/(np.exp(E2/T1)+1) #FD statistics\n",
    "    f3=0 #nuR\n",
    "    f4=0 #nuR\n",
    "    t=m3**2+m1**2-2*dot13\n",
    "    return E3*f1*f2*(1-f3)*(1-f4)*(t-mF**2)**2/(t-mB**2)**2\n",
    "\n",
    "iii=I4()\n",
    "iii.m1234=(m1,m2,m3,m4)\n",
    "iii.n=1000000\n",
    "iii.F=F_III_2\n",
    "#which requires global T1, m1,mX\n",
    "\n",
    "T1list=mX/2 * np.logspace(-2,1,40)\n",
    "results=[]\n",
    "\n",
    "for i,T1 in enumerate(T1list):\n",
    "    print (\"\\r m1=\",m1,\"i=\",i,\"/\",len(T1list),end=\",\")    \n",
    "    iii.Tqx=4*T1\n",
    "    iii.T2x=4*T1 \n",
    "    iii.generate()\n",
    "    results.append(iii.go())"
   ]
  },
  {
   "cell_type": "code",
   "execution_count": 56,
   "metadata": {},
   "outputs": [],
   "source": [
    "#define the collision term as a function of temperature of two particles\n",
    "CvR_MC_data = np.array([T1list,results])\n",
    "CvR_MC_fun = interp1d(np.log10(CvR_MC_data[0]), np.log10(CvR_MC_data[1]))\n",
    "gggg = (1e-4)**4\n",
    "NvR = 6\n",
    "def Ce_vR_T_anni_MC(T_SM):\n",
    "    global gggg\n",
    "    Tmax = CvR_MC_data[0, -1]\n",
    "    Tmin = CvR_MC_data[0, 0]\n",
    "    if T_SM < Tmin:\n",
    "        return NvR * gggg * CvR_MC_data[1, 0] * (T_SM / Tmin) ** 9\n",
    "    elif T_SM > Tmax:\n",
    "        # accoding to Eq.(xxx), in this case it is proportional to T^5\n",
    "        return NvR * gggg * CvR_MC_data[1, -1] * (T_SM / Tmax) ** 5\n",
    "    else:\n",
    "        return NvR * gggg * 10 ** CvR_MC_fun(np.log10(T_SM))\n",
    "def Ce_vR_TT_anni_MC(T_SM, T_vR):\n",
    "    return Ce_vR_T_anni_MC(T_SM) - Ce_vR_T_anni_MC(T_vR)"
   ]
  },
  {
   "cell_type": "code",
   "execution_count": 57,
   "metadata": {},
   "outputs": [],
   "source": [
    "#Initiate solver by setting the collision term.\n",
    "A = Boltzmann_solver(Cp=Ce_vR_TT_anni_MC)\n",
    "#then solve the equation based for initial condition.\n",
    "A.solve(T0=[1e7, 1e3], Tf=1e1, num=1e3)\n",
    "#results are restored in save variable\n",
    "result = A.save[0]\n",
    "Neff = (result[\"TT_curve\"](10) / 10) ** 4 * 3"
   ]
  },
  {
   "cell_type": "code",
   "execution_count": 58,
   "metadata": {
    "collapsed": false
   },
   "outputs": [
    {
     "data": {
      "image/png": "[encoded data removed]",
      "text/plain": [
       "<Figure size 432x288 with 1 Axes>"
      ]
     },
     "metadata": {},
     "output_type": "display_data"
    }
   ],
   "source": [
    "#read the results\n",
    "plt.plot(result[\"T_solve\"][:,0],result[\"T_solve\"][:,1]/result[\"T_solve\"][:,0])\n",
    "plt.xscale(\"log\")\n",
    "plt.yscale(\"log\")\n",
    "plt.ylim(1e-3,1)\n",
    "plt.xlim(10,1e7)\n",
    "plt.show()"
   ]
  },
  {
   "cell_type": "code",
   "execution_count": 63,
   "metadata": {},
   "outputs": [
    {
     "name": "stdout",
     "output_type": "stream",
     "text": [
      "xxxxxxx\n"
     ]
    },
    {
     "data": {
      "image/png": "[encoded data removed]",
      "text/plain": [
       "<Figure size 432x288 with 1 Axes>"
      ]
     },
     "metadata": {},
     "output_type": "display_data"
    }
   ],
   "source": [
    "g_anni_scan = np.logspace(-4,-2,5)\n",
    "for j, gscan in enumerate(g_anni_scan):\n",
    "    gggg=  gscan**4\n",
    "    A = Boltzmann_solver(Cp=Ce_vR_TT_anni_MC)\n",
    "    A.solve(T0=[1e7, 1e3], Tf=1e1, num=1e3)\n",
    "    result = A.save[0]\n",
    "    plt.plot(result[\"T_solve\"][:,0],result[\"T_solve\"][:,1]/result[\"T_solve\"][:,0],label = \"g = \" + str(gggg))\n",
    "plt.xscale(\"log\")\n",
    "plt.yscale(\"log\")\n",
    "plt.ylim(1e-3,1)\n",
    "plt.xlim(10,1e7)\n",
    "plt.legend()\n",
    "plt.show()"
   ]
  },
  {
   "cell_type": "code",
   "execution_count": null,
   "metadata": {},
   "outputs": [],
   "source": []
  }
 ],
 "metadata": {
  "kernelspec": {
   "display_name": "Python 2",
   "language": "python",
   "name": "python2"
  },
  "language_info": {
   "codemirror_mode": {
    "name": "ipython",
    "version": 2
   },
   "file_extension": ".py",
   "mimetype": "text/x-python",
   "name": "python",
   "nbconvert_exporter": "python",
   "pygments_lexer": "ipython2",
   "version": "2.7.6"
  }
 },
 "nbformat": 4,
 "nbformat_minor": 0
}
